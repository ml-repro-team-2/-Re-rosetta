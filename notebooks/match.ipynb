{
 "cells": [
  {
   "cell_type": "code",
   "execution_count": 1,
   "metadata": {},
   "outputs": [
    {
     "name": "stderr",
     "output_type": "stream",
     "text": [
      "/home/amil/anaconda3/envs/rosetta/lib/python3.8/site-packages/tqdm/auto.py:21: TqdmWarning: IProgress not found. Please update jupyter and ipywidgets. See https://ipywidgets.readthedocs.io/en/stable/user_install.html\n",
      "  from .autonotebook import tqdm as notebook_tqdm\n",
      "2023-06-14 20:53:37.849249: I tensorflow/core/util/port.cc:110] oneDNN custom operations are on. You may see slightly different numerical results due to floating-point round-off errors from different computation orders. To turn them off, set the environment variable `TF_ENABLE_ONEDNN_OPTS=0`.\n",
      "2023-06-14 20:53:37.890027: I tensorflow/core/platform/cpu_feature_guard.cc:182] This TensorFlow binary is optimized to use available CPU instructions in performance-critical operations.\n",
      "To enable the following instructions: AVX2 AVX512F AVX512_VNNI FMA, in other operations, rebuild TensorFlow with the appropriate compiler flags.\n",
      "2023-06-14 20:53:38.522624: W tensorflow/compiler/tf2tensorrt/utils/py_utils.cc:38] TF-TRT Warning: Could not find TensorRT\n"
     ]
    }
   ],
   "source": [
    "import os\n",
    "import sys\n",
    "current = os.path.dirname(os.path.realpath(\"match.ipynb\"))\n",
    "parent = os.path.dirname(current)\n",
    "sys.path.append(parent)\n",
    "from transformers import CLIPProcessor, CLIPModel\n",
    "import torch\n",
    "import torchvision\n",
    "from torchvision.models import resnet50\n",
    "import torchvision.transforms as transforms\n",
    "import matplotlib.pyplot as plt\n",
    "import numpy as np\n",
    "import clip\n",
    "from PIL import Image\n",
    "import requests\n",
    "import torch.hub\n",
    "import time\n",
    "import pickle\n",
    "import math\n",
    "\n",
    "from match_utils import matching, stats, proggan, nethook, dataset, models"
   ]
  },
  {
   "cell_type": "code",
   "execution_count": 2,
   "metadata": {},
   "outputs": [],
   "source": [
    "device = torch.device('cuda:0')"
   ]
  },
  {
   "cell_type": "code",
   "execution_count": 3,
   "metadata": {},
   "outputs": [
    {
     "name": "stderr",
     "output_type": "stream",
     "text": [
      "Using cache found in /home/amil/.cache/torch/hub/facebookresearch_dino_main\n",
      "/home/amil/anaconda3/envs/rosetta/lib/python3.8/site-packages/torchvision/models/_utils.py:208: UserWarning: The parameter 'pretrained' is deprecated since 0.13 and may be removed in the future, please use 'weights' instead.\n",
      "  warnings.warn(\n",
      "/home/amil/anaconda3/envs/rosetta/lib/python3.8/site-packages/torchvision/models/_utils.py:223: UserWarning: Arguments other than a weight enum or `None` for 'weights' are deprecated since 0.13 and may be removed in the future. The current behavior is equivalent to passing `weights=None`.\n",
      "  warnings.warn(msg)\n"
     ]
    }
   ],
   "source": [
    "gan, gan_layers = models.load_gan(\"biggan\", device)\n",
    "discr, discr_layers = models.load_discr(\"dino\", device)"
   ]
  },
  {
   "cell_type": "markdown",
   "metadata": {},
   "source": [
    "### Run Matching"
   ]
  },
  {
   "cell_type": "code",
   "execution_count": null,
   "metadata": {},
   "outputs": [
    {
     "name": "stdout",
     "output_type": "stream",
     "text": [
      "Collecting Dataset Statistics\n"
     ]
    },
    {
     "name": "stderr",
     "output_type": "stream",
     "text": [
      "100%|█████████████████████████████████████████████████████████████████████████████████| 100/100 [00:07<00:00, 14.07it/s]\n"
     ]
    },
    {
     "name": "stdout",
     "output_type": "stream",
     "text": [
      "Finished Iterating for Stats\n",
      "Done\n",
      "Starting Activation Matching\n"
     ]
    },
    {
     "name": "stderr",
     "output_type": "stream",
     "text": [
      " 53%|███████████████████████████████████████████▍                                      | 53/100 [02:22<02:06,  2.69s/it]"
     ]
    }
   ],
   "source": [
    "batch_size = 16\n",
    "epochs = 100\n",
    "classidx = 207\n",
    "save_path = \"/home/amil/Rosetta/matches\"\n",
    "z_dataset, c_dataset = dataset.create_dataset(gan, \"biggan\", batch_size, epochs, classidx, device)\n",
    "\n",
    "matching.activ_match_gan(gan = gan, gan_layers = gan_layers,\n",
    "                        discr = discr, discr_layers = discr_layers, \n",
    "                        gan_mode = \"biggan\", \n",
    "                        discr_mode = \"dino\", \n",
    "                        dataset = (z_dataset, c_dataset),\n",
    "                        epochs = epochs,\n",
    "                        batch_size = batch_size,\n",
    "                        save_path = save_path,\n",
    "                        device = device)\n",
    "end = time.time()"
   ]
  },
  {
   "cell_type": "code",
   "execution_count": null,
   "metadata": {},
   "outputs": [],
   "source": []
  }
 ],
 "metadata": {
  "kernelspec": {
   "display_name": "Python 3 (ipykernel)",
   "language": "python",
   "name": "python3"
  },
  "language_info": {
   "codemirror_mode": {
    "name": "ipython",
    "version": 3
   },
   "file_extension": ".py",
   "mimetype": "text/x-python",
   "name": "python",
   "nbconvert_exporter": "python",
   "pygments_lexer": "ipython3",
   "version": "3.8.5"
  }
 },
 "nbformat": 4,
 "nbformat_minor": 4
}
