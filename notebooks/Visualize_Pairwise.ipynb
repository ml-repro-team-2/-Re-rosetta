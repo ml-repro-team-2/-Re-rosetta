{
 "cells": [
  {
   "cell_type": "code",
   "execution_count": null,
   "metadata": {
    "tags": []
   },
   "outputs": [],
   "source": [
    "import os\n",
    "import sys\n",
    "current = os.path.dirname(os.path.realpath(\"Visualize_Pairwise.ipynb\"))\n",
    "parent = os.path.dirname(current)\n",
    "sys.path.append(parent)\n",
    "from transformers import CLIPProcessor, CLIPModel\n",
    "import torch\n",
    "import torch.hub\n",
    "import torchvision\n",
    "from torchvision.models import resnet50\n",
    "import torchvision.transforms as transforms\n",
    "import matplotlib.pyplot as plt\n",
    "import numpy as np\n",
    "import clip\n",
    "from PIL import Image\n",
    "import requests\n",
    "import torch.hub\n",
    "import time\n",
    "import pickle\n",
    "import math\n",
    "\n",
    "from match_utils import matching, stats, proggan, nethook, dataset, loading, plotting, layers, models, visualize_pairwisematch"
   ]
  },
  {
   "cell_type": "code",
   "execution_count": null,
   "metadata": {
    "tags": []
   },
   "outputs": [],
   "source": [
    "device = torch.device('cuda:3')"
   ]
  },
  {
   "cell_type": "code",
   "execution_count": null,
   "metadata": {
    "tags": []
   },
   "outputs": [],
   "source": [
    "gan, gan_layers = models.load_gan(\"stylegan3\", device)\n",
    "discr, discr_layers = models.load_discr(\"dino\", device)"
   ]
  },
  {
   "cell_type": "code",
   "execution_count": null,
   "metadata": {
    "tags": []
   },
   "outputs": [],
   "source": [
    "ganlayers, discrlayers = layers.get_layers(gan,gan_layers, discr, discr_layers,\"stylegan3\", \"dino\", device)"
   ]
  },
  {
   "cell_type": "code",
   "execution_count": null,
   "metadata": {
    "tags": []
   },
   "outputs": [],
   "source": [
    "table, gan_stats, discr_stats = loading.load_stats(\"matches/stylegan3_dino_ffhq\", device)"
   ]
  },
  {
   "attachments": {},
   "cell_type": "markdown",
   "metadata": {},
   "source": [
    "### Best Buddies"
   ]
  },
  {
   "cell_type": "code",
   "execution_count": null,
   "metadata": {
    "tags": []
   },
   "outputs": [],
   "source": [
    "match_scores,_ = torch.max(table,1)"
   ]
  },
  {
   "cell_type": "code",
   "execution_count": null,
   "metadata": {
    "tags": []
   },
   "outputs": [],
   "source": [
    "n = 5\n",
    "_,gan_matches1 = torch.topk(table,k=1,dim=1)\n",
    "_,discr_matches1 = torch.topk(table,k=n, dim=0)\n"
   ]
  },
  {
   "cell_type": "code",
   "execution_count": null,
   "metadata": {
    "tags": []
   },
   "outputs": [],
   "source": [
    "gan_matches = torch.argmax(table,1)\n",
    "dino_matches = torch.argmax(table,0)"
   ]
  },
  {
   "cell_type": "code",
   "execution_count": null,
   "metadata": {
    "tags": []
   },
   "outputs": [],
   "source": [
    "perfect_matches = []\n",
    "perfect_match_scores1= []\n",
    "discr_perfect_matches1 = []\n",
    "\n",
    "num_kmatches = 0 \n",
    "for i in range(table.shape[0]):\n",
    "    gan_match = gan_matches1[i].item()\n",
    "    discr_matches = discr_matches1[:, gan_match]\n",
    "    \n",
    "    for unit in discr_matches:\n",
    "        if unit == i:\n",
    "            num_kmatches += 1\n",
    "            perfect_matches.append(i)\n",
    "            discr_perfect_matches1.append(gan_match)\n",
    "            perfect_match_scores1.append(table[i, gan_match])\n",
    "            break\n",
    "print(len(perfect_matches))"
   ]
  },
  {
   "attachments": {},
   "cell_type": "markdown",
   "metadata": {},
   "source": [
    "### Sort units according to scores"
   ]
  },
  {
   "cell_type": "code",
   "execution_count": null,
   "metadata": {
    "tags": []
   },
   "outputs": [],
   "source": [
    "gan_match_units = [match for _,match in sorted(zip(perfect_match_scores1, perfect_matches), reverse = True)]"
   ]
  },
  {
   "cell_type": "code",
   "execution_count": null,
   "metadata": {
    "tags": []
   },
   "outputs": [],
   "source": [
    "scores = sorted(perfect_match_scores1, reverse = True)\n",
    "scores = [score.item() for score in scores]"
   ]
  },
  {
   "attachments": {},
   "cell_type": "markdown",
   "metadata": {},
   "source": [
    "## Visualize Matches over Sample Images"
   ]
  },
  {
   "cell_type": "code",
   "execution_count": null,
   "metadata": {
    "tags": []
   },
   "outputs": [],
   "source": [
    "batch_size = 1\n",
    "epochs = 1\n",
    "classidx = None\n",
    "z_dataset, c_dataset = dataset.create_dataset(gan, \"stylegan3\", batch_size, epochs, classidx, device)"
   ]
  },
  {
   "cell_type": "code",
   "execution_count": null,
   "metadata": {
    "tags": []
   },
   "outputs": [],
   "source": [
    "init = gan(z_dataset,c_dataset,1)\n",
    "init = (init.detach().cpu()+1)/2\n",
    "init = torch.permute(init[0], (1,2,0))\n",
    "plt.imshow(init)\n",
    "init = (init-torch.min(init))/(torch.max(init)-torch.min(init))\n",
    "init = np.uint8(init*255)"
   ]
  },
  {
   "cell_type": "code",
   "execution_count": null,
   "metadata": {
    "tags": []
   },
   "outputs": [],
   "source": [
    "gan_match_units.sort()"
   ]
  },
  {
   "cell_type": "code",
   "execution_count": null,
   "metadata": {
    "tags": []
   },
   "outputs": [],
   "source": [
    "#get number of units per each layer \n",
    "ganlayers, discrlayers = layers.get_layers(gan,gan_layers, discr, discr_layers,\"stylegan3\", \"dino\", device)"
   ]
  },
  {
   "cell_type": "code",
   "execution_count": null,
   "metadata": {
    "tags": []
   },
   "outputs": [],
   "source": [
    "visualize_pairwisematch.viz_matches(table, gan, discr, (z_dataset,c_dataset), ganlayers, discrlayers, gan_stats, discr_stats, \"stylegan3\", \"dino\", gan_match_units, scores )"
   ]
  },
  {
   "cell_type": "code",
   "execution_count": null,
   "metadata": {},
   "outputs": [],
   "source": []
  }
 ],
 "metadata": {
  "kernelspec": {
   "display_name": "Python 3 (ipykernel)",
   "language": "python",
   "name": "python3"
  },
  "language_info": {
   "codemirror_mode": {
    "name": "ipython",
    "version": 3
   },
   "file_extension": ".py",
   "mimetype": "text/x-python",
   "name": "python",
   "nbconvert_exporter": "python",
   "pygments_lexer": "ipython3",
   "version": "3.8.5"
  }
 },
 "nbformat": 4,
 "nbformat_minor": 4
}
